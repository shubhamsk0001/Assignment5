{
 "cells": [
  {
   "cell_type": "code",
   "execution_count": null,
   "id": "7457ccb4",
   "metadata": {},
   "outputs": [],
   "source": [
    "1. What does an empty dictionary's code look like?"
   ]
  },
  {
   "cell_type": "code",
   "execution_count": null,
   "id": "d89213dd",
   "metadata": {},
   "outputs": [],
   "source": [
    "An empty dictionary's look like {}."
   ]
  },
  {
   "cell_type": "code",
   "execution_count": null,
   "id": "30bcf6e5",
   "metadata": {},
   "outputs": [],
   "source": [
    "2. What is the value of a dictionary value with the key 'foo' and the value 42?"
   ]
  },
  {
   "cell_type": "code",
   "execution_count": 17,
   "id": "7c753cd2",
   "metadata": {},
   "outputs": [
    {
     "data": {
      "text/plain": [
       "42"
      ]
     },
     "execution_count": 17,
     "metadata": {},
     "output_type": "execute_result"
    }
   ],
   "source": [
    "a={'foo': 42}\n",
    "a.get('foo')"
   ]
  },
  {
   "cell_type": "code",
   "execution_count": null,
   "id": "412eca84",
   "metadata": {},
   "outputs": [],
   "source": [
    "3. What is the most significant distinction between a dictionary and a list?"
   ]
  },
  {
   "cell_type": "code",
   "execution_count": null,
   "id": "b758c779",
   "metadata": {},
   "outputs": [],
   "source": [
    "The most significant distinction between a dictionary and list are as follows:-\n",
    "List conatain elements in ordered form whereas Dictionary contain elements as key value pair.\n",
    "The element in the list are called using their indices whereas the element in the dictionary can be called by using the \n",
    "specified key."
   ]
  },
  {
   "cell_type": "code",
   "execution_count": null,
   "id": "f3f230a3",
   "metadata": {},
   "outputs": [],
   "source": [
    "4. What happens if you try to access spam['foo'] if spam is {'bar': 100}?"
   ]
  },
  {
   "cell_type": "code",
   "execution_count": null,
   "id": "7faf2a13",
   "metadata": {},
   "outputs": [],
   "source": [
    "If one try to acess spam['foo']if spam is {'bar': 100} then he will get a keyerror error."
   ]
  },
  {
   "cell_type": "code",
   "execution_count": null,
   "id": "702008ed",
   "metadata": {},
   "outputs": [],
   "source": [
    "5. If a dictionary is stored in spam, what is the difference between the expressions 'cat' in spam \n",
    "and 'cat' in spam.keys()?"
   ]
  },
  {
   "cell_type": "code",
   "execution_count": null,
   "id": "0c4366e9",
   "metadata": {},
   "outputs": [],
   "source": [
    "There is no difference between the expressions 'cat' in spam and 'cat' in spam.keys() because \n",
    "Both will check whether there is any 'cat' key in the dictionary."
   ]
  },
  {
   "cell_type": "code",
   "execution_count": null,
   "id": "853d0263",
   "metadata": {},
   "outputs": [],
   "source": [
    "6. If a dictionary is stored in spam, what is the difference between the expressions 'cat' in spam and \n",
    "'cat' in spam.values()?"
   ]
  },
  {
   "cell_type": "code",
   "execution_count": null,
   "id": "8446888b",
   "metadata": {},
   "outputs": [],
   "source": [
    "the difference between the expressions 'cat' in spam and 'cat' in spam.values() is that:-\n",
    " 'cat' in spam check whether there is any 'cat' key in the dictionary wheras 'cat' in spam.values() will check whether \n",
    "there is any 'cat'value in the dictionary."
   ]
  },
  {
   "cell_type": "code",
   "execution_count": null,
   "id": "2eddc53a",
   "metadata": {},
   "outputs": [],
   "source": [
    "7. What is a shortcut for the following code?\n",
    "if 'color' not in spam:\n",
    "spam['color'] = 'black'"
   ]
  },
  {
   "cell_type": "code",
   "execution_count": null,
   "id": "fbf9a040",
   "metadata": {},
   "outputs": [],
   "source": [
    "spam.setdefault('color','black')"
   ]
  },
  {
   "cell_type": "code",
   "execution_count": null,
   "id": "8692de21",
   "metadata": {},
   "outputs": [],
   "source": [
    "8. How do you \"pretty print\" dictionary values using which module and function?"
   ]
  },
  {
   "cell_type": "code",
   "execution_count": null,
   "id": "eb488597",
   "metadata": {},
   "outputs": [],
   "source": [
    "The module used is pprint.\n",
    "The function used are  pprint.pprint() and pprint.pformat()."
   ]
  }
 ],
 "metadata": {
  "kernelspec": {
   "display_name": "Python 3 (ipykernel)",
   "language": "python",
   "name": "python3"
  },
  "language_info": {
   "codemirror_mode": {
    "name": "ipython",
    "version": 3
   },
   "file_extension": ".py",
   "mimetype": "text/x-python",
   "name": "python",
   "nbconvert_exporter": "python",
   "pygments_lexer": "ipython3",
   "version": "3.9.12"
  }
 },
 "nbformat": 4,
 "nbformat_minor": 5
}
